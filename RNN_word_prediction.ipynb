{
  "nbformat": 4,
  "nbformat_minor": 0,
  "metadata": {
    "colab": {
      "provenance": [],
      "gpuType": "T4"
    },
    "kernelspec": {
      "name": "python3",
      "display_name": "Python 3"
    },
    "language_info": {
      "name": "python"
    },
    "accelerator": "GPU"
  },
  "cells": [
    {
      "cell_type": "code",
      "execution_count": null,
      "metadata": {
        "id": "yr1qyzpFSl1y"
      },
      "outputs": [],
      "source": [
        "import pandas as pd\n",
        "import os\n",
        "import numpy as np\n",
        "import tensorflow as tf\n",
        "from tensorflow.keras.preprocessing.sequence import pad_sequences\n",
        "from tensorflow.keras.layers import Embedding, LSTM, Dense, Bidirectional\n",
        "from tensorflow.keras.preprocessing.text import Tokenizer\n",
        "from tensorflow.keras.models import Sequential\n",
        "from tensorflow.keras.optimizers import Adam"
      ]
    },
    {
      "cell_type": "code",
      "source": [
        "medium_data=pd.read_csv('/content/medium_data.csv')\n",
        "medium_data.head()"
      ],
      "metadata": {
        "colab": {
          "base_uri": "https://localhost:8080/",
          "height": 293
        },
        "id": "ZKiRVqRHULA9",
        "outputId": "affae476-caf4-43f7-be00-4d4c0ecadbef"
      },
      "execution_count": null,
      "outputs": [
        {
          "output_type": "execute_result",
          "data": {
            "text/plain": [
              "   id                                                url  \\\n",
              "0   1  https://towardsdatascience.com/a-beginners-gui...   \n",
              "1   2  https://towardsdatascience.com/hands-on-graph-...   \n",
              "2   3  https://towardsdatascience.com/how-to-use-ggpl...   \n",
              "3   4  https://towardsdatascience.com/databricks-how-...   \n",
              "4   5  https://towardsdatascience.com/a-step-by-step-...   \n",
              "\n",
              "                                               title  \\\n",
              "0  A Beginner’s Guide to Word Embedding with Gens...   \n",
              "1  Hands-on Graph Neural Networks with PyTorch & ...   \n",
              "2                       How to Use ggplot2 in Python   \n",
              "3  Databricks: How to Save Files in CSV on Your L...   \n",
              "4  A Step-by-Step Implementation of Gradient Desc...   \n",
              "\n",
              "                                  subtitle   image  claps responses  \\\n",
              "0                                      NaN   1.png    850         8   \n",
              "1                                      NaN   2.png   1100        11   \n",
              "2         A Grammar of Graphics for Python   3.png    767         1   \n",
              "3  When I work on Python projects dealing…  4.jpeg    354         0   \n",
              "4          One example of building neural…  5.jpeg    211         3   \n",
              "\n",
              "   reading_time           publication        date  \n",
              "0             8  Towards Data Science  2019-05-30  \n",
              "1             9  Towards Data Science  2019-05-30  \n",
              "2             5  Towards Data Science  2019-05-30  \n",
              "3             4  Towards Data Science  2019-05-30  \n",
              "4             4  Towards Data Science  2019-05-30  "
            ],
            "text/html": [
              "\n",
              "  <div id=\"df-7de6b529-5fc9-40c6-8cb9-d1f3aeef3268\" class=\"colab-df-container\">\n",
              "    <div>\n",
              "<style scoped>\n",
              "    .dataframe tbody tr th:only-of-type {\n",
              "        vertical-align: middle;\n",
              "    }\n",
              "\n",
              "    .dataframe tbody tr th {\n",
              "        vertical-align: top;\n",
              "    }\n",
              "\n",
              "    .dataframe thead th {\n",
              "        text-align: right;\n",
              "    }\n",
              "</style>\n",
              "<table border=\"1\" class=\"dataframe\">\n",
              "  <thead>\n",
              "    <tr style=\"text-align: right;\">\n",
              "      <th></th>\n",
              "      <th>id</th>\n",
              "      <th>url</th>\n",
              "      <th>title</th>\n",
              "      <th>subtitle</th>\n",
              "      <th>image</th>\n",
              "      <th>claps</th>\n",
              "      <th>responses</th>\n",
              "      <th>reading_time</th>\n",
              "      <th>publication</th>\n",
              "      <th>date</th>\n",
              "    </tr>\n",
              "  </thead>\n",
              "  <tbody>\n",
              "    <tr>\n",
              "      <th>0</th>\n",
              "      <td>1</td>\n",
              "      <td>https://towardsdatascience.com/a-beginners-gui...</td>\n",
              "      <td>A Beginner’s Guide to Word Embedding with Gens...</td>\n",
              "      <td>NaN</td>\n",
              "      <td>1.png</td>\n",
              "      <td>850</td>\n",
              "      <td>8</td>\n",
              "      <td>8</td>\n",
              "      <td>Towards Data Science</td>\n",
              "      <td>2019-05-30</td>\n",
              "    </tr>\n",
              "    <tr>\n",
              "      <th>1</th>\n",
              "      <td>2</td>\n",
              "      <td>https://towardsdatascience.com/hands-on-graph-...</td>\n",
              "      <td>Hands-on Graph Neural Networks with PyTorch &amp; ...</td>\n",
              "      <td>NaN</td>\n",
              "      <td>2.png</td>\n",
              "      <td>1100</td>\n",
              "      <td>11</td>\n",
              "      <td>9</td>\n",
              "      <td>Towards Data Science</td>\n",
              "      <td>2019-05-30</td>\n",
              "    </tr>\n",
              "    <tr>\n",
              "      <th>2</th>\n",
              "      <td>3</td>\n",
              "      <td>https://towardsdatascience.com/how-to-use-ggpl...</td>\n",
              "      <td>How to Use ggplot2 in Python</td>\n",
              "      <td>A Grammar of Graphics for Python</td>\n",
              "      <td>3.png</td>\n",
              "      <td>767</td>\n",
              "      <td>1</td>\n",
              "      <td>5</td>\n",
              "      <td>Towards Data Science</td>\n",
              "      <td>2019-05-30</td>\n",
              "    </tr>\n",
              "    <tr>\n",
              "      <th>3</th>\n",
              "      <td>4</td>\n",
              "      <td>https://towardsdatascience.com/databricks-how-...</td>\n",
              "      <td>Databricks: How to Save Files in CSV on Your L...</td>\n",
              "      <td>When I work on Python projects dealing…</td>\n",
              "      <td>4.jpeg</td>\n",
              "      <td>354</td>\n",
              "      <td>0</td>\n",
              "      <td>4</td>\n",
              "      <td>Towards Data Science</td>\n",
              "      <td>2019-05-30</td>\n",
              "    </tr>\n",
              "    <tr>\n",
              "      <th>4</th>\n",
              "      <td>5</td>\n",
              "      <td>https://towardsdatascience.com/a-step-by-step-...</td>\n",
              "      <td>A Step-by-Step Implementation of Gradient Desc...</td>\n",
              "      <td>One example of building neural…</td>\n",
              "      <td>5.jpeg</td>\n",
              "      <td>211</td>\n",
              "      <td>3</td>\n",
              "      <td>4</td>\n",
              "      <td>Towards Data Science</td>\n",
              "      <td>2019-05-30</td>\n",
              "    </tr>\n",
              "  </tbody>\n",
              "</table>\n",
              "</div>\n",
              "    <div class=\"colab-df-buttons\">\n",
              "\n",
              "  <div class=\"colab-df-container\">\n",
              "    <button class=\"colab-df-convert\" onclick=\"convertToInteractive('df-7de6b529-5fc9-40c6-8cb9-d1f3aeef3268')\"\n",
              "            title=\"Convert this dataframe to an interactive table.\"\n",
              "            style=\"display:none;\">\n",
              "\n",
              "  <svg xmlns=\"http://www.w3.org/2000/svg\" height=\"24px\" viewBox=\"0 -960 960 960\">\n",
              "    <path d=\"M120-120v-720h720v720H120Zm60-500h600v-160H180v160Zm220 220h160v-160H400v160Zm0 220h160v-160H400v160ZM180-400h160v-160H180v160Zm440 0h160v-160H620v160ZM180-180h160v-160H180v160Zm440 0h160v-160H620v160Z\"/>\n",
              "  </svg>\n",
              "    </button>\n",
              "\n",
              "  <style>\n",
              "    .colab-df-container {\n",
              "      display:flex;\n",
              "      gap: 12px;\n",
              "    }\n",
              "\n",
              "    .colab-df-convert {\n",
              "      background-color: #E8F0FE;\n",
              "      border: none;\n",
              "      border-radius: 50%;\n",
              "      cursor: pointer;\n",
              "      display: none;\n",
              "      fill: #1967D2;\n",
              "      height: 32px;\n",
              "      padding: 0 0 0 0;\n",
              "      width: 32px;\n",
              "    }\n",
              "\n",
              "    .colab-df-convert:hover {\n",
              "      background-color: #E2EBFA;\n",
              "      box-shadow: 0px 1px 2px rgba(60, 64, 67, 0.3), 0px 1px 3px 1px rgba(60, 64, 67, 0.15);\n",
              "      fill: #174EA6;\n",
              "    }\n",
              "\n",
              "    .colab-df-buttons div {\n",
              "      margin-bottom: 4px;\n",
              "    }\n",
              "\n",
              "    [theme=dark] .colab-df-convert {\n",
              "      background-color: #3B4455;\n",
              "      fill: #D2E3FC;\n",
              "    }\n",
              "\n",
              "    [theme=dark] .colab-df-convert:hover {\n",
              "      background-color: #434B5C;\n",
              "      box-shadow: 0px 1px 3px 1px rgba(0, 0, 0, 0.15);\n",
              "      filter: drop-shadow(0px 1px 2px rgba(0, 0, 0, 0.3));\n",
              "      fill: #FFFFFF;\n",
              "    }\n",
              "  </style>\n",
              "\n",
              "    <script>\n",
              "      const buttonEl =\n",
              "        document.querySelector('#df-7de6b529-5fc9-40c6-8cb9-d1f3aeef3268 button.colab-df-convert');\n",
              "      buttonEl.style.display =\n",
              "        google.colab.kernel.accessAllowed ? 'block' : 'none';\n",
              "\n",
              "      async function convertToInteractive(key) {\n",
              "        const element = document.querySelector('#df-7de6b529-5fc9-40c6-8cb9-d1f3aeef3268');\n",
              "        const dataTable =\n",
              "          await google.colab.kernel.invokeFunction('convertToInteractive',\n",
              "                                                    [key], {});\n",
              "        if (!dataTable) return;\n",
              "\n",
              "        const docLinkHtml = 'Like what you see? Visit the ' +\n",
              "          '<a target=\"_blank\" href=https://colab.research.google.com/notebooks/data_table.ipynb>data table notebook</a>'\n",
              "          + ' to learn more about interactive tables.';\n",
              "        element.innerHTML = '';\n",
              "        dataTable['output_type'] = 'display_data';\n",
              "        await google.colab.output.renderOutput(dataTable, element);\n",
              "        const docLink = document.createElement('div');\n",
              "        docLink.innerHTML = docLinkHtml;\n",
              "        element.appendChild(docLink);\n",
              "      }\n",
              "    </script>\n",
              "  </div>\n",
              "\n",
              "\n",
              "<div id=\"df-3257a58b-3688-4f37-a877-4be39412d902\">\n",
              "  <button class=\"colab-df-quickchart\" onclick=\"quickchart('df-3257a58b-3688-4f37-a877-4be39412d902')\"\n",
              "            title=\"Suggest charts\"\n",
              "            style=\"display:none;\">\n",
              "\n",
              "<svg xmlns=\"http://www.w3.org/2000/svg\" height=\"24px\"viewBox=\"0 0 24 24\"\n",
              "     width=\"24px\">\n",
              "    <g>\n",
              "        <path d=\"M19 3H5c-1.1 0-2 .9-2 2v14c0 1.1.9 2 2 2h14c1.1 0 2-.9 2-2V5c0-1.1-.9-2-2-2zM9 17H7v-7h2v7zm4 0h-2V7h2v10zm4 0h-2v-4h2v4z\"/>\n",
              "    </g>\n",
              "</svg>\n",
              "  </button>\n",
              "\n",
              "<style>\n",
              "  .colab-df-quickchart {\n",
              "      --bg-color: #E8F0FE;\n",
              "      --fill-color: #1967D2;\n",
              "      --hover-bg-color: #E2EBFA;\n",
              "      --hover-fill-color: #174EA6;\n",
              "      --disabled-fill-color: #AAA;\n",
              "      --disabled-bg-color: #DDD;\n",
              "  }\n",
              "\n",
              "  [theme=dark] .colab-df-quickchart {\n",
              "      --bg-color: #3B4455;\n",
              "      --fill-color: #D2E3FC;\n",
              "      --hover-bg-color: #434B5C;\n",
              "      --hover-fill-color: #FFFFFF;\n",
              "      --disabled-bg-color: #3B4455;\n",
              "      --disabled-fill-color: #666;\n",
              "  }\n",
              "\n",
              "  .colab-df-quickchart {\n",
              "    background-color: var(--bg-color);\n",
              "    border: none;\n",
              "    border-radius: 50%;\n",
              "    cursor: pointer;\n",
              "    display: none;\n",
              "    fill: var(--fill-color);\n",
              "    height: 32px;\n",
              "    padding: 0;\n",
              "    width: 32px;\n",
              "  }\n",
              "\n",
              "  .colab-df-quickchart:hover {\n",
              "    background-color: var(--hover-bg-color);\n",
              "    box-shadow: 0 1px 2px rgba(60, 64, 67, 0.3), 0 1px 3px 1px rgba(60, 64, 67, 0.15);\n",
              "    fill: var(--button-hover-fill-color);\n",
              "  }\n",
              "\n",
              "  .colab-df-quickchart-complete:disabled,\n",
              "  .colab-df-quickchart-complete:disabled:hover {\n",
              "    background-color: var(--disabled-bg-color);\n",
              "    fill: var(--disabled-fill-color);\n",
              "    box-shadow: none;\n",
              "  }\n",
              "\n",
              "  .colab-df-spinner {\n",
              "    border: 2px solid var(--fill-color);\n",
              "    border-color: transparent;\n",
              "    border-bottom-color: var(--fill-color);\n",
              "    animation:\n",
              "      spin 1s steps(1) infinite;\n",
              "  }\n",
              "\n",
              "  @keyframes spin {\n",
              "    0% {\n",
              "      border-color: transparent;\n",
              "      border-bottom-color: var(--fill-color);\n",
              "      border-left-color: var(--fill-color);\n",
              "    }\n",
              "    20% {\n",
              "      border-color: transparent;\n",
              "      border-left-color: var(--fill-color);\n",
              "      border-top-color: var(--fill-color);\n",
              "    }\n",
              "    30% {\n",
              "      border-color: transparent;\n",
              "      border-left-color: var(--fill-color);\n",
              "      border-top-color: var(--fill-color);\n",
              "      border-right-color: var(--fill-color);\n",
              "    }\n",
              "    40% {\n",
              "      border-color: transparent;\n",
              "      border-right-color: var(--fill-color);\n",
              "      border-top-color: var(--fill-color);\n",
              "    }\n",
              "    60% {\n",
              "      border-color: transparent;\n",
              "      border-right-color: var(--fill-color);\n",
              "    }\n",
              "    80% {\n",
              "      border-color: transparent;\n",
              "      border-right-color: var(--fill-color);\n",
              "      border-bottom-color: var(--fill-color);\n",
              "    }\n",
              "    90% {\n",
              "      border-color: transparent;\n",
              "      border-bottom-color: var(--fill-color);\n",
              "    }\n",
              "  }\n",
              "</style>\n",
              "\n",
              "  <script>\n",
              "    async function quickchart(key) {\n",
              "      const quickchartButtonEl =\n",
              "        document.querySelector('#' + key + ' button');\n",
              "      quickchartButtonEl.disabled = true;  // To prevent multiple clicks.\n",
              "      quickchartButtonEl.classList.add('colab-df-spinner');\n",
              "      try {\n",
              "        const charts = await google.colab.kernel.invokeFunction(\n",
              "            'suggestCharts', [key], {});\n",
              "      } catch (error) {\n",
              "        console.error('Error during call to suggestCharts:', error);\n",
              "      }\n",
              "      quickchartButtonEl.classList.remove('colab-df-spinner');\n",
              "      quickchartButtonEl.classList.add('colab-df-quickchart-complete');\n",
              "    }\n",
              "    (() => {\n",
              "      let quickchartButtonEl =\n",
              "        document.querySelector('#df-3257a58b-3688-4f37-a877-4be39412d902 button');\n",
              "      quickchartButtonEl.style.display =\n",
              "        google.colab.kernel.accessAllowed ? 'block' : 'none';\n",
              "    })();\n",
              "  </script>\n",
              "</div>\n",
              "    </div>\n",
              "  </div>\n"
            ]
          },
          "metadata": {},
          "execution_count": 6
        }
      ]
    },
    {
      "cell_type": "code",
      "source": [
        "print('Number of records',medium_data.shape[0])\n",
        "print('Number of records',medium_data.shape[1])"
      ],
      "metadata": {
        "colab": {
          "base_uri": "https://localhost:8080/"
        },
        "id": "UjoegEONWU9g",
        "outputId": "51de77bb-a7a1-481a-8905-b886c646370f"
      },
      "execution_count": null,
      "outputs": [
        {
          "output_type": "stream",
          "name": "stdout",
          "text": [
            "Number of records 6508\n",
            "Number of records 10\n"
          ]
        }
      ]
    },
    {
      "cell_type": "code",
      "source": [
        "medium_data['title']"
      ],
      "metadata": {
        "colab": {
          "base_uri": "https://localhost:8080/"
        },
        "id": "EQiAxynrWxJZ",
        "outputId": "b44f3053-27f0-4cb9-b479-4d05b2dc51fe"
      },
      "execution_count": null,
      "outputs": [
        {
          "output_type": "execute_result",
          "data": {
            "text/plain": [
              "0       A Beginner’s Guide to Word Embedding with Gens...\n",
              "1       Hands-on Graph Neural Networks with PyTorch & ...\n",
              "2                            How to Use ggplot2 in Python\n",
              "3       Databricks: How to Save Files in CSV on Your L...\n",
              "4       A Step-by-Step Implementation of Gradient Desc...\n",
              "                              ...                        \n",
              "6503    “We” vs “I” — How Should You Talk About Yourse...\n",
              "6504                     How Donald Trump Markets Himself\n",
              "6505        Content and Marketing Beyond Mass Consumption\n",
              "6506    5 Questions All Copywriters Should Ask Clients...\n",
              "6507               How To Write a Good Business Blog Post\n",
              "Name: title, Length: 6508, dtype: object"
            ]
          },
          "metadata": {},
          "execution_count": 8
        }
      ]
    },
    {
      "cell_type": "markdown",
      "source": [
        "Here we have 10 diff fields 6508 records but we will only use the title field"
      ],
      "metadata": {
        "id": "eJEQCTtMW4Vc"
      }
    },
    {
      "cell_type": "code",
      "source": [
        "medium_data['title'] = medium_data['title'].apply(lambda x: x.replace(u'\\xa0', u' '))\n",
        "medium_data['title'] = medium_data['title'].apply(lambda x: x.replace('\\u200a', ' '))"
      ],
      "metadata": {
        "id": "NngIdVuQW2Jg"
      },
      "execution_count": null,
      "outputs": []
    },
    {
      "cell_type": "code",
      "source": [
        "tokenizer=Tokenizer(oov_token='<oov>')\n",
        "tokenizer.fit_on_texts(medium_data['title'])\n",
        "total_words=len(tokenizer.word_index)+1\n",
        "\n",
        "print('Total number of words:',total_words)\n",
        "print('word: ID')\n",
        "print('-----')\n",
        "print('<oov>',tokenizer.word_index['<oov>'])\n",
        "print('strong',tokenizer.word_index['strong'])\n",
        "print('And:',tokenizer.word_index['and'])\n",
        "print('Consumption',tokenizer.word_index['consumption'])"
      ],
      "metadata": {
        "colab": {
          "base_uri": "https://localhost:8080/"
        },
        "id": "gEAR72yBYS08",
        "outputId": "8cb05573-c053-45fd-d811-217d1e5f45f6"
      },
      "execution_count": null,
      "outputs": [
        {
          "output_type": "stream",
          "name": "stdout",
          "text": [
            "Total number of words: 8238\n",
            "word: ID\n",
            "-----\n",
            "<oov> 1\n",
            "strong 4\n",
            "And: 8\n",
            "Consumption 8237\n"
          ]
        }
      ]
    },
    {
      "cell_type": "code",
      "source": [
        "input_sequences=[]\n",
        "for line in medium_data['title']:\n",
        "  token_list=tokenizer.texts_to_sequences([line])[0]\n",
        "  #print(token_list)\n",
        "  for i in range(1,len(token_list)):\n",
        "    n_gram_sequence=token_list[:i+1]\n",
        "    input_sequences.append(n_gram_sequence)\n",
        "print('Total input sequences',len(input_sequences))"
      ],
      "metadata": {
        "colab": {
          "base_uri": "https://localhost:8080/"
        },
        "id": "IfTOxhiVaiYd",
        "outputId": "66ee9d7e-d151-4314-98ba-ca0549f03e68"
      },
      "execution_count": null,
      "outputs": [
        {
          "output_type": "stream",
          "name": "stdout",
          "text": [
            "Total input sequences 48461\n"
          ]
        }
      ]
    },
    {
      "cell_type": "code",
      "source": [
        "max_sequence_len=max([len(x) for x in input_sequences])\n",
        "input_sequences=np.array(pad_sequences(input_sequences, maxlen=max_sequence_len,padding='pre'))\n",
        "input_sequences[1]"
      ],
      "metadata": {
        "colab": {
          "base_uri": "https://localhost:8080/"
        },
        "id": "5-N9AWkwbpb1",
        "outputId": "89dab605-3476-4f80-c3b0-2899d232266d"
      },
      "execution_count": null,
      "outputs": [
        {
          "output_type": "execute_result",
          "data": {
            "text/plain": [
              "array([  0,   0,   0,   0,   0,   0,   0,   0,   0,   0,   0,   0,   0,\n",
              "         0,   0,   0,   0,   0,   0,   0,   0,   0,   0,   0,   0,   0,\n",
              "         0,   0,   0,   0,   0,   0,   0,   0,   0,   0,   0,   5, 676,\n",
              "        68], dtype=int32)"
            ]
          },
          "metadata": {},
          "execution_count": 16
        }
      ]
    },
    {
      "cell_type": "code",
      "source": [
        "xs, labels = input_sequences[:,:-1],input_sequences[:,-1]\n",
        "ys = tf.keras.utils.to_categorical(labels, num_classes=total_words)\n",
        "\n",
        "print(xs[5])\n",
        "print(labels[5])\n",
        "print(ys[5][14])"
      ],
      "metadata": {
        "colab": {
          "base_uri": "https://localhost:8080/"
        },
        "id": "VjaH8zuLct6Q",
        "outputId": "ee2172b9-f468-4635-81a0-95b252e5216c"
      },
      "execution_count": null,
      "outputs": [
        {
          "output_type": "stream",
          "name": "stdout",
          "text": [
            "[   0    0    0    0    0    0    0    0    0    0    0    0    0    0\n",
            "    0    0    0    0    0    0    0    0    0    0    0    0    0    0\n",
            "    0    0    0    0    0    5  676   68    2  452 1518]\n",
            "14\n",
            "1.0\n"
          ]
        }
      ]
    },
    {
      "cell_type": "code",
      "source": [
        "model = Sequential()\n",
        "model.add(Embedding(total_words, 100, input_length=max_sequence_len-1))\n",
        "model.add(Bidirectional(LSTM(150)))\n",
        "model.add(Dense(total_words, activation='softmax'))\n",
        "adam = Adam(lr=0.01)\n",
        "model.compile(loss='categorical_crossentropy', optimizer=adam, metrics=['accuracy'])\n",
        "history = model.fit(xs, ys, epochs=50, verbose=1)\n",
        "#print model.summary()\n",
        "print(model)"
      ],
      "metadata": {
        "colab": {
          "base_uri": "https://localhost:8080/"
        },
        "id": "oTk6-6Jtduc6",
        "outputId": "7752b61b-2af3-476a-d560-77d1ef1e400d"
      },
      "execution_count": null,
      "outputs": [
        {
          "output_type": "stream",
          "name": "stderr",
          "text": [
            "WARNING:absl:`lr` is deprecated in Keras optimizer, please use `learning_rate` or use the legacy optimizer, e.g.,tf.keras.optimizers.legacy.Adam.\n"
          ]
        },
        {
          "output_type": "stream",
          "name": "stdout",
          "text": [
            "Epoch 1/50\n",
            "1515/1515 [==============================] - 36s 21ms/step - loss: 7.0212 - accuracy: 0.0827\n",
            "Epoch 2/50\n",
            "1515/1515 [==============================] - 18s 12ms/step - loss: 6.2023 - accuracy: 0.1361\n",
            "Epoch 3/50\n",
            "1515/1515 [==============================] - 18s 12ms/step - loss: 5.6845 - accuracy: 0.1651\n",
            "Epoch 4/50\n",
            "1515/1515 [==============================] - 17s 11ms/step - loss: 5.2084 - accuracy: 0.1923\n",
            "Epoch 5/50\n",
            "1515/1515 [==============================] - 18s 12ms/step - loss: 4.7579 - accuracy: 0.2143\n",
            "Epoch 6/50\n",
            "1515/1515 [==============================] - 18s 12ms/step - loss: 4.3328 - accuracy: 0.2425\n",
            "Epoch 7/50\n",
            "1515/1515 [==============================] - 20s 13ms/step - loss: 3.9315 - accuracy: 0.2828\n",
            "Epoch 8/50\n",
            "1515/1515 [==============================] - 20s 13ms/step - loss: 3.5572 - accuracy: 0.3323\n",
            "Epoch 9/50\n",
            "1515/1515 [==============================] - 20s 13ms/step - loss: 3.2056 - accuracy: 0.3848\n",
            "Epoch 10/50\n",
            "1515/1515 [==============================] - 20s 13ms/step - loss: 2.8886 - accuracy: 0.4377\n",
            "Epoch 11/50\n",
            "1515/1515 [==============================] - 19s 12ms/step - loss: 2.6062 - accuracy: 0.4903\n",
            "Epoch 12/50\n",
            "1515/1515 [==============================] - 20s 13ms/step - loss: 2.3547 - accuracy: 0.5350\n",
            "Epoch 13/50\n",
            "1515/1515 [==============================] - 20s 13ms/step - loss: 2.1328 - accuracy: 0.5756\n",
            "Epoch 14/50\n",
            "1515/1515 [==============================] - 19s 13ms/step - loss: 1.9368 - accuracy: 0.6132\n",
            "Epoch 15/50\n",
            "1515/1515 [==============================] - 19s 12ms/step - loss: 1.7605 - accuracy: 0.6465\n",
            "Epoch 16/50\n",
            "1515/1515 [==============================] - 19s 12ms/step - loss: 1.6056 - accuracy: 0.6778\n",
            "Epoch 17/50\n",
            "1515/1515 [==============================] - 22s 15ms/step - loss: 1.4686 - accuracy: 0.7058\n",
            "Epoch 18/50\n",
            "1515/1515 [==============================] - 18s 12ms/step - loss: 1.3489 - accuracy: 0.7305\n",
            "Epoch 19/50\n",
            "1515/1515 [==============================] - 21s 14ms/step - loss: 1.2419 - accuracy: 0.7516\n",
            "Epoch 20/50\n",
            "1515/1515 [==============================] - 20s 13ms/step - loss: 1.1503 - accuracy: 0.7698\n",
            "Epoch 21/50\n",
            "1515/1515 [==============================] - 19s 13ms/step - loss: 1.0701 - accuracy: 0.7842\n",
            "Epoch 22/50\n",
            "1515/1515 [==============================] - 20s 14ms/step - loss: 1.0001 - accuracy: 0.7975\n",
            "Epoch 23/50\n",
            "1515/1515 [==============================] - 19s 13ms/step - loss: 0.9385 - accuracy: 0.8087\n",
            "Epoch 24/50\n",
            "1515/1515 [==============================] - 19s 13ms/step - loss: 0.8879 - accuracy: 0.8176\n",
            "Epoch 25/50\n",
            "1515/1515 [==============================] - 19s 12ms/step - loss: 0.8440 - accuracy: 0.8253\n",
            "Epoch 26/50\n",
            "1515/1515 [==============================] - 19s 12ms/step - loss: 0.8062 - accuracy: 0.8320\n",
            "Epoch 27/50\n",
            "1515/1515 [==============================] - 17s 11ms/step - loss: 0.7725 - accuracy: 0.8362\n",
            "Epoch 28/50\n",
            "1515/1515 [==============================] - 18s 12ms/step - loss: 0.7442 - accuracy: 0.8404\n",
            "Epoch 29/50\n",
            "1515/1515 [==============================] - 17s 11ms/step - loss: 0.7218 - accuracy: 0.8444\n",
            "Epoch 30/50\n",
            "1515/1515 [==============================] - 18s 12ms/step - loss: 0.6997 - accuracy: 0.8468\n",
            "Epoch 31/50\n",
            "1515/1515 [==============================] - 18s 12ms/step - loss: 0.6835 - accuracy: 0.8483\n",
            "Epoch 32/50\n",
            "1515/1515 [==============================] - 18s 12ms/step - loss: 0.6678 - accuracy: 0.8498\n",
            "Epoch 33/50\n",
            "1515/1515 [==============================] - 17s 11ms/step - loss: 0.6561 - accuracy: 0.8519\n",
            "Epoch 34/50\n",
            "1515/1515 [==============================] - 18s 12ms/step - loss: 0.6442 - accuracy: 0.8517\n",
            "Epoch 35/50\n",
            "1515/1515 [==============================] - 18s 12ms/step - loss: 0.6337 - accuracy: 0.8527\n",
            "Epoch 36/50\n",
            "1515/1515 [==============================] - 18s 12ms/step - loss: 0.6264 - accuracy: 0.8531\n",
            "Epoch 37/50\n",
            "1515/1515 [==============================] - 17s 11ms/step - loss: 0.6180 - accuracy: 0.8536\n",
            "Epoch 38/50\n",
            "1515/1515 [==============================] - 17s 11ms/step - loss: 0.6139 - accuracy: 0.8542\n",
            "Epoch 39/50\n",
            "1515/1515 [==============================] - 17s 12ms/step - loss: 0.6073 - accuracy: 0.8540\n",
            "Epoch 40/50\n",
            "1515/1515 [==============================] - 17s 11ms/step - loss: 0.6011 - accuracy: 0.8546\n",
            "Epoch 41/50\n",
            "1515/1515 [==============================] - 17s 12ms/step - loss: 0.5972 - accuracy: 0.8547\n",
            "Epoch 42/50\n",
            "1515/1515 [==============================] - 17s 11ms/step - loss: 0.5929 - accuracy: 0.8556\n",
            "Epoch 43/50\n",
            "1515/1515 [==============================] - 17s 11ms/step - loss: 0.5896 - accuracy: 0.8553\n",
            "Epoch 44/50\n",
            "1515/1515 [==============================] - 18s 12ms/step - loss: 0.5871 - accuracy: 0.8552\n",
            "Epoch 45/50\n",
            "1515/1515 [==============================] - 17s 11ms/step - loss: 0.5818 - accuracy: 0.8554\n",
            "Epoch 46/50\n",
            "1515/1515 [==============================] - 18s 12ms/step - loss: 0.5815 - accuracy: 0.8549\n",
            "Epoch 47/50\n",
            "1515/1515 [==============================] - 17s 11ms/step - loss: 0.5780 - accuracy: 0.8556\n",
            "Epoch 48/50\n",
            "1515/1515 [==============================] - 17s 11ms/step - loss: 0.5749 - accuracy: 0.8556\n",
            "Epoch 49/50\n",
            "1515/1515 [==============================] - 17s 11ms/step - loss: 0.5749 - accuracy: 0.8564\n",
            "Epoch 50/50\n",
            "1515/1515 [==============================] - 17s 11ms/step - loss: 0.5729 - accuracy: 0.8554\n",
            "<keras.src.engine.sequential.Sequential object at 0x7f89f8548430>\n"
          ]
        }
      ]
    },
    {
      "cell_type": "code",
      "source": [
        "seed_text = \"implementation of\"\n",
        "next_words = 2\n",
        "\n",
        "for _ in range(next_words):\n",
        "    token_list = tokenizer.texts_to_sequences([seed_text])[0]\n",
        "    token_list = pad_sequences([token_list], maxlen=max_sequence_len-1, padding='pre')\n",
        "    #predictedclasses = model.predict_classes(token_list, verbose=0)\n",
        "    predicted_probs = model.predict(token_list, verbose=0)\n",
        "    predicted = np.argmax(predicted_probs, axis=-1)\n",
        "    output_word = \"\"\n",
        "    for word, index in tokenizer.word_index.items():\n",
        "        if index == predicted:\n",
        "          output_word = word\n",
        "          break\n",
        "    seed_text += \" \" + output_word\n",
        "print(seed_text)"
      ],
      "metadata": {
        "colab": {
          "base_uri": "https://localhost:8080/"
        },
        "id": "BH8BBV5HgQSk",
        "outputId": "034ad8f8-2437-42a3-8d45-26efef3ef72f"
      },
      "execution_count": null,
      "outputs": [
        {
          "output_type": "stream",
          "name": "stdout",
          "text": [
            "implementation of rnn lstm\n"
          ]
        }
      ]
    }
  ]
}